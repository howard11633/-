{
  "nbformat": 4,
  "nbformat_minor": 0,
  "metadata": {
    "colab": {
      "provenance": []
    },
    "kernelspec": {
      "name": "python3",
      "display_name": "Python 3"
    },
    "language_info": {
      "name": "python"
    }
  },
  "cells": [
    {
      "cell_type": "markdown",
      "source": [
        "# 國泰金控雲端架構工程師實習生_筆試之題目二\n",
        "### 系級：中央資管研究所碩二\n",
        "### 姓名：蔣銘皓"
      ],
      "metadata": {
        "id": "ZORxJakEO71K"
      }
    },
    {
      "cell_type": "markdown",
      "source": [
        "## 方案一：將新聞稿以爬蟲方式抓取內文，並存為txt檔"
      ],
      "metadata": {
        "id": "eJAvFbd2O_KG"
      }
    },
    {
      "cell_type": "code",
      "source": [
        "# References\n",
        "# https://ithelp.ithome.com.tw/articles/10271319\n",
        "\n",
        "# 使用工具\n",
        "# ChatGPT"
      ],
      "metadata": {
        "id": "0WTFyLAXP4MF"
      },
      "execution_count": 1,
      "outputs": []
    },
    {
      "cell_type": "code",
      "execution_count": 2,
      "metadata": {
        "id": "12WV6GI1Gx6-"
      },
      "outputs": [],
      "source": [
        "import requests\n",
        "from bs4 import BeautifulSoup"
      ]
    },
    {
      "cell_type": "code",
      "source": [
        "#題目指定網址\n",
        "url = 'https://www.ithome.com.tw/news/152373'\n",
        "#發送GET request到 url\n",
        "resp = requests.get(url)\n",
        "\n",
        "# 將html資料裝進soup物件方便後面用find抓出要擷取的內容\n",
        "# 將 resp.text 也就是 HTML 資料定義到 BeautifulSoup 物件內，並用 html5lib 解析 HTML 內容\n",
        "soup = BeautifulSoup(resp.text, 'html5lib')"
      ],
      "metadata": {
        "id": "-KNfNFa3HVWq"
      },
      "execution_count": 3,
      "outputs": []
    },
    {
      "cell_type": "code",
      "source": [
        "content = soup.find('div', class_='field-name-body')\n",
        "content"
      ],
      "metadata": {
        "colab": {
          "base_uri": "https://localhost:8080/"
        },
        "id": "qh_1KWHSKaao",
        "outputId": "a5320ad6-c417-445c-88bd-b5a50d81afb3"
      },
      "execution_count": 4,
      "outputs": [
        {
          "output_type": "execute_result",
          "data": {
            "text/plain": [
              "<div class=\"field field-name-body field-type-text-with-summary field-label-hidden\"><div class=\"field-items\"><div class=\"field-item even\"> <p>「從一家子公司到協助集團各公司上雲，從一套系統發展到上百套系統上雲」國泰金控數數發中心雲端技術架構師顏勝豪直言，這正是國泰金控集團所要面對的大規模上雲的考驗。</p>\n",
              "<p>為了克服這項IT大挑戰，該公司不只擬定大規模上雲策略，還建立一套方法論，來協助各子公司進行大量系統遷移，更透過系統化方式幫助子公司評估，加快上雲腳步。而顏勝豪正是負責執行集團雲端轉型計畫的關鍵人物，擬定集團上雲策略。他近日在一場活動上首度揭露集團內部大規模上雲的轉型歷程。</p>\n",
              "<p><img alt=\"\" src=\"https://s4.itho.me/sites/default/files/images/11(8).png\" style=\"width: 600px; height: 333px;\"/></p>\n",
              "<h3><strong>目標3～5年完成全集團100套系統上雲</strong></h3>\n",
              "<p style=\"margin-left:.05pt;\">早在幾年前，國泰就已經展開集團上雲旅程，開始將一些新系統和服務部署於地端的私有雲，更要建立私雲和公雲的混合雲架構，以取得雲端更多好處，包含敏捷、彈性、全球部署和成本優勢。而國泰雲端戰略第一步，就是要把集團內系統逐一搬上公雲，還擬定上雲策略，希望透過雲環境就緒（Cloud  Readiness）、雲端採用（Cloud Adoption）、雲端優化（Cloud Optimization）及雲端應用現代化（Cloud Modernization）分4階段，完成集團上雲。</p>\n",
              "<p style=\"margin-left:.05pt;\">國泰擁抱雲端，不只是想要獲取上雲效益，更希望利用雲端資源協助集團建構國泰雲端數位發展能力，這些能力都是國泰金控數位轉型整體戰略的重要一環。在這個大戰略之下，顏勝豪和數數發團隊一肩扛起重任，要協助集團各子公司完成系統遷移，更以未來3～5年完成全集團100套系統上雲為目標。</p>\n",
              "<p style=\"margin-left:.05pt;\">國泰於2021年展開第一階段上雲計畫，從基礎建設、應用程式、管理、組織4個面向發展上雲的準備，先從銀行開始，之後人壽、產險、證券子公司跟進。</p>\n",
              "<p style=\"margin-left:.05pt;\">顏勝豪表示，這階段上雲的重點，先從子公司單一系統上雲做起，以建立搬遷雲端所需的相關資安、系統遷移和環境基礎設計機制，完成第一階段目標後，今年進到第2階段雲端採用。</p>\n",
              "<h3><strong>國泰實現大規模上雲的關鍵，靠一套方法論協助子公司做遷移分類</strong></h3>\n",
              "<p style=\"margin-left:.05pt;\">但一進到這個階段，國泰數數發團隊馬上遇到考驗，因為需要處理子公司越來越多大量系統上雲的需求，尤其，跟過去上一套系統相比，顏勝豪指出：「進入大量雲端使用階段，面對的是上百套系統的挑戰，其複雜度、規模和以往截然不同。」</p>\n",
              "<p style=\"margin-left:.05pt;\">他進一步解釋，因為每套上雲系統架構都不一樣，有些可能採用傳統單體架構，有的則導入微服務新架構，甚至相依性 、開發架構、SLA要求，每個系統都不一樣，不僅如此，有時還得考量有無個資、特殊大流量需求等，這些都會影響到其上雲模式，「100套系統中可能就有50種不同的類別 ，必須要有對應策略。」</p>\n",
              "<p><img alt=\"\" src=\"https://s4.itho.me/sites/default/files/images/20(3).png\" style=\"width: 600px; height: 334px;\"/></p>\n",
              "<blockquote><p>國泰金控實現大規模上雲的策略關鍵，就是靠一套方法論，來協助各子公司進行大量系統遷移。他們將系統遷移方式依據上雲模式、系統開發成本分為Rehost 、Re-platform、Refactor、Rewrite、Replace和Retain共6種遷移架構，對應到IaaS、PaaS、SaaS三種不同上雲模式。圖片來源:國泰金控</p>\n",
              "</blockquote>\n",
              "<p style=\"margin-left:.05pt;\">國泰金控實現大規模上雲的策略關鍵，就是靠一套統一的方法論，協助各子公司進行大量系統遷移。</p>\n",
              "<p style=\"margin-left:.05pt;\">但不像其他企業大多使用現成方法論來實踐，國泰反而選擇自建集團自己的方法論，除了透過顧問團隊協助，還參考Gartner 5R和AWS 7 Rs雲端遷移模型定義，進而形成自己的Cathay 6R雲端遷移方法論。顏勝豪表示，以此建立出來的方法論，更能夠符合國泰金融上雲實際情況。</p>\n",
              "<p style=\"margin-left:.05pt;\">在這套方法論中，他們將系統遷移方式依據上雲模式、系統開發成本分為Rehost 、Re-platform、Refactor、Rewrite、Replace和Retain共6種遷移架構，並能對應到IaaS、PaaS、SaaS三種不同上雲模式。</p>\n",
              "<p style=\"margin-left:.05pt;\">在這6種上雲方式中，採用Rehost方式上雲的系統開發成本最低，幾乎不需改動，僅需將本地VM搬上雲，常見的工作負載平移（lift and shift），就是屬於這種上雲方式。而Re-platform則是指在系統上雲過程中開始採用雲生原應用服務，如改用雲端代管服務提供SQL資料庫服務等，或將應用程式容器化。Refactor則是Re-platform更進階作法，不光是資料庫，連AP層跟著容器化，部署在雲端容器管理平臺上，它也是第三種上雲方式。</p>\n",
              "<p style=\"margin-left:.05pt;\">該方法論提到第四種上雲方式是Rewrite，相較於前三種上雲方式，不光是改寫應用程式，連系統架構也進行大幅更改，轉為Cloud Native架構，如將前端網頁從MVC架構改為前後端分離的SPA單頁式應用架構。他指出，這種上雲作法，雖然更能支援雲端原生環境，但系統開發成本相對較高。如果採用Replace方式上雲的話，對轉換雲原生架構更徹底，等於是全面改以SaaS服務型態進行上雲。最後Retain作法則因考慮到合規性、系統合併等不確定因素，系統仍維持於地端。</p>\n",
              "<p style=\"margin-left:.05pt;\">國泰今年在進行大規模系統上雲時，開始透過這套方法論，來對於這些上雲系統進行分析、分類，找出其適合上雲的方式，確保整個遷雲過程能順利完成。</p>\n",
              "<p style=\"margin-left:.05pt;\">顏勝豪表示，雖然系統上雲有更快交付市場、資源申縮彈性、省錢、天然高可用等諸多好處，但獲得這些好處的前提，取決於系統如何上雲，「6R方法論的實踐很重要，因為它不只決定整套系統上雲後的服務顆粒度大小，甚至影響到之後上雲效益。」</p>\n",
              "<p style=\"margin-left:.05pt;\">舉例來說，在6R方法論中，採用不同遷移方式，對應到的上雲模式有所不同，比如Rehost分類對應到的上雲模式是IaaS，Re-platform和Refactor上雲模式則是IaaS或PaaS，而Rewrite對應到的是PaaS或SaaS，至於Replace則屬於SaaS模式。</p>\n",
              "<p style=\"margin-left:.05pt;\">但對國泰系統上雲來說，他強調，最終希望是採用PaaS或SaaS方式上雲，大量使用虛擬機的IaaS模式雖是最快又簡單的上雲方法，但獲得的雲端效益也最低。顏勝豪更用一句話直白說明 Cathay 6R 策略：「就是消滅虛擬機」。</p>\n",
              "<p style=\"margin-left:.05pt;\">也因為採取這個策略，目前國泰系統上雲過程中，如果各子公司提交的系統架構圖出現VM，他會特別詢問理由，除非這些應用只能在VM上執行，不然會要求子公司盡量避免使用VM，改用容器來取代。</p>\n",
              "<h3><strong>導入自評系統，加快子公司系統上雲評估</strong></h3>\n",
              "<p><strong><img alt=\"\" src=\"https://s4.itho.me/sites/default/files/images/26(4).png\" style=\"width: 600px; height: 336px;\"/></strong></p>\n",
              "<p style=\"margin-left:.05pt;\">有了6R方法論之後，他表示，執行上，團隊會透過系統訪談，依據所收集到的資訊，產出該系統上雲的評估建議，包括技術、風險、業務衝擊等面向，作為各子公司系統上雲的參考。經過他們的歸類，目前系統上雲方式以Refactor的分類情況最常見，也就是屬於低度應用程式的調整，可能採用PaaS服務或者把應用程式容器化。</p>\n",
              "<p style=\"margin-left:.05pt;\">為了縮短系統上雲評估作業，國泰後來自行開發一個CCMA（國泰系統上雲評估分析平臺）系統，將6R分類方法轉為系統化方式，來協助各子公司評估，除了協助其快速了解應用系統的資料性質、開發者、資安需求等等，也提供子公司作為整體應用遷移策略的選擇參考。</p>\n",
              "<p style=\"margin-left:.05pt;\">顏勝豪表示，過去透過Excel進行資料蒐集和整理，產出分析結果和報表，容易有資料保存版本的問題，導入系統後不再有這個問題，甚至子公司IT團隊能上網站預填問卷，不需要等訪談人員到現場才能填，有助於縮短系統的評估時間。問卷填完的數據分析結果，從系統上就能看得到，他們將原本人工邏輯判斷，轉為規則引擎建立在系統裡，只要填妥資料，系統就會產出6R評估結果。所有報表經過系統化，都可以直接匯出，方便各子公司來查看。</p>\n",
              "<p style=\"margin-left:.05pt;\">像從系統上的問卷管理平臺，就能看到每個上雲系統的列表和上雲評估，在列表中，除了有6R評估結果，還提供風險、業務衝擊、技術適合度等不同面向的系統分數和整體平均分數比較，作為各子公司總體上雲策略的判斷，另外也整合不少分析功能，像是透過整體分群分析，可以觀看不同上雲系統在空間分布上的點位，有助於做上雲分類的判斷，該系統還提供參數分析功能，可提供子公司決定如何上雲，甚至上雲優先順序的建議。</p>\n",
              "<p>不只有參數分析和圖表，針對每一套系統，數數發團隊還會提供質化分析報告，包含系統是否適合上雲的種種因素，供各子公司IT團隊參考。</p>\n",
              "<p>除了設計統一方法論，應對大規模上雲的挑戰，顏勝豪表示，接下來將把雲端成本控管，和上雲後的Day-2 Operation維運面問題納入關鍵考量。</p>\n",
              " </div></div></div>"
            ]
          },
          "metadata": {},
          "execution_count": 4
        }
      ]
    },
    {
      "cell_type": "code",
      "source": [
        "# 從content提取內文\n",
        "text = content.get_text()\n",
        "text"
      ],
      "metadata": {
        "colab": {
          "base_uri": "https://localhost:8080/",
          "height": 214
        },
        "id": "u_fihal-Kb8I",
        "outputId": "4dcec262-2e13-4e8a-c384-94752b6a6096"
      },
      "execution_count": 5,
      "outputs": [
        {
          "output_type": "execute_result",
          "data": {
            "text/plain": [
              "' 「從一家子公司到協助集團各公司上雲，從一套系統發展到上百套系統上雲」國泰金控數數發中心雲端技術架構師顏勝豪直言，這正是國泰金控集團所要面對的大規模上雲的考驗。\\n為了克服這項IT大挑戰，該公司不只擬定大規模上雲策略，還建立一套方法論，來協助各子公司進行大量系統遷移，更透過系統化方式幫助子公司評估，加快上雲腳步。而顏勝豪正是負責執行集團雲端轉型計畫的關鍵人物，擬定集團上雲策略。他近日在一場活動上首度揭露集團內部大規模上雲的轉型歷程。\\n\\n目標3～5年完成全集團100套系統上雲\\n早在幾年前，國泰就已經展開集團上雲旅程，開始將一些新系統和服務部署於地端的私有雲，更要建立私雲和公雲的混合雲架構，以取得雲端更多好處，包含敏捷、彈性、全球部署和成本優勢。而國泰雲端戰略第一步，就是要把集團內系統逐一搬上公雲，還擬定上雲策略，希望透過雲環境就緒（Cloud\\xa0 Readiness）、雲端採用（Cloud Adoption）、雲端優化（Cloud Optimization）及雲端應用現代化（Cloud Modernization）分4階段，完成集團上雲。\\n國泰擁抱雲端，不只是想要獲取上雲效益，更希望利用雲端資源協助集團建構國泰雲端數位發展能力，這些能力都是國泰金控數位轉型整體戰略的重要一環。在這個大戰略之下，顏勝豪和數數發團隊一肩扛起重任，要協助集團各子公司完成系統遷移，更以未來3～5年完成全集團100套系統上雲為目標。\\n國泰於2021年展開第一階段上雲計畫，從基礎建設、應用程式、管理、組織4個面向發展上雲的準備，先從銀行開始，之後人壽、產險、證券子公司跟進。\\n顏勝豪表示，這階段上雲的重點，先從子公司單一系統上雲做起，以建立搬遷雲端所需的相關資安、系統遷移和環境基礎設計機制，完成第一階段目標後，今年進到第2階段雲端採用。\\n國泰實現大規模上雲的關鍵，靠一套方法論協助子公司做遷移分類\\n但一進到這個階段，國泰數數發團隊馬上遇到考驗，因為需要處理子公司越來越多大量系統上雲的需求，尤其，跟過去上一套系統相比，顏勝豪指出：「進入大量雲端使用階段，面對的是上百套系統的挑戰，其複雜度、規模和以往截然不同。」\\n他進一步解釋，因為每套上雲系統架構都不一樣，有些可能採用傳統單體架構，有的則導入微服務新架構，甚至相依性 、開發架構、SLA要求，每個系統都不一樣，不僅如此，有時還得考量有無個資、特殊大流量需求等，這些都會影響到其上雲模式，「100套系統中可能就有50種不同的類別 ，必須要有對應策略。」\\n\\n國泰金控實現大規模上雲的策略關鍵，就是靠一套方法論，來協助各子公司進行大量系統遷移。他們將系統遷移方式依據上雲模式、系統開發成本分為Rehost 、Re-platform、Refactor、Rewrite、Replace和Retain共6種遷移架構，對應到IaaS、PaaS、SaaS三種不同上雲模式。圖片來源:國泰金控\\n\\n國泰金控實現大規模上雲的策略關鍵，就是靠一套統一的方法論，協助各子公司進行大量系統遷移。\\n但不像其他企業大多使用現成方法論來實踐，國泰反而選擇自建集團自己的方法論，除了透過顧問團隊協助，還參考Gartner 5R和AWS 7 Rs雲端遷移模型定義，進而形成自己的Cathay 6R雲端遷移方法論。顏勝豪表示，以此建立出來的方法論，更能夠符合國泰金融上雲實際情況。\\n在這套方法論中，他們將系統遷移方式依據上雲模式、系統開發成本分為Rehost 、Re-platform、Refactor、Rewrite、Replace和Retain共6種遷移架構，並能對應到IaaS、PaaS、SaaS三種不同上雲模式。\\n在這6種上雲方式中，採用Rehost方式上雲的系統開發成本最低，幾乎不需改動，僅需將本地VM搬上雲，常見的工作負載平移（lift and shift），就是屬於這種上雲方式。而Re-platform則是指在系統上雲過程中開始採用雲生原應用服務，如改用雲端代管服務提供SQL資料庫服務等，或將應用程式容器化。Refactor則是Re-platform更進階作法，不光是資料庫，連AP層跟著容器化，部署在雲端容器管理平臺上，它也是第三種上雲方式。\\n該方法論提到第四種上雲方式是Rewrite，相較於前三種上雲方式，不光是改寫應用程式，連系統架構也進行大幅更改，轉為Cloud Native架構，如將前端網頁從MVC架構改為前後端分離的SPA單頁式應用架構。他指出，這種上雲作法，雖然更能支援雲端原生環境，但系統開發成本相對較高。如果採用Replace方式上雲的話，對轉換雲原生架構更徹底，等於是全面改以SaaS服務型態進行上雲。最後Retain作法則因考慮到合規性、系統合併等不確定因素，系統仍維持於地端。\\n國泰今年在進行大規模系統上雲時，開始透過這套方法論，來對於這些上雲系統進行分析、分類，找出其適合上雲的方式，確保整個遷雲過程能順利完成。\\n顏勝豪表示，雖然系統上雲有更快交付市場、資源申縮彈性、省錢、天然高可用等諸多好處，但獲得這些好處的前提，取決於系統如何上雲，「6R方法論的實踐很重要，因為它不只決定整套系統上雲後的服務顆粒度大小，甚至影響到之後上雲效益。」\\n舉例來說，在6R方法論中，採用不同遷移方式，對應到的上雲模式有所不同，比如Rehost分類對應到的上雲模式是IaaS，Re-platform和Refactor上雲模式則是IaaS或PaaS，而Rewrite對應到的是PaaS或SaaS，至於Replace則屬於SaaS模式。\\n但對國泰系統上雲來說，他強調，最終希望是採用PaaS或SaaS方式上雲，大量使用虛擬機的IaaS模式雖是最快又簡單的上雲方法，但獲得的雲端效益也最低。顏勝豪更用一句話直白說明 Cathay 6R 策略：「就是消滅虛擬機」。\\n也因為採取這個策略，目前國泰系統上雲過程中，如果各子公司提交的系統架構圖出現VM，他會特別詢問理由，除非這些應用只能在VM上執行，不然會要求子公司盡量避免使用VM，改用容器來取代。\\n導入自評系統，加快子公司系統上雲評估\\n\\n有了6R方法論之後，他表示，執行上，團隊會透過系統訪談，依據所收集到的資訊，產出該系統上雲的評估建議，包括技術、風險、業務衝擊等面向，作為各子公司系統上雲的參考。經過他們的歸類，目前系統上雲方式以Refactor的分類情況最常見，也就是屬於低度應用程式的調整，可能採用PaaS服務或者把應用程式容器化。\\n為了縮短系統上雲評估作業，國泰後來自行開發一個CCMA（國泰系統上雲評估分析平臺）系統，將6R分類方法轉為系統化方式，來協助各子公司評估，除了協助其快速了解應用系統的資料性質、開發者、資安需求等等，也提供子公司作為整體應用遷移策略的選擇參考。\\n顏勝豪表示，過去透過Excel進行資料蒐集和整理，產出分析結果和報表，容易有資料保存版本的問題，導入系統後不再有這個問題，甚至子公司IT團隊能上網站預填問卷，不需要等訪談人員到現場才能填，有助於縮短系統的評估時間。問卷填完的數據分析結果，從系統上就能看得到，他們將原本人工邏輯判斷，轉為規則引擎建立在系統裡，只要填妥資料，系統就會產出6R評估結果。所有報表經過系統化，都可以直接匯出，方便各子公司來查看。\\n像從系統上的問卷管理平臺，就能看到每個上雲系統的列表和上雲評估，在列表中，除了有6R評估結果，還提供風險、業務衝擊、技術適合度等不同面向的系統分數和整體平均分數比較，作為各子公司總體上雲策略的判斷，另外也整合不少分析功能，像是透過整體分群分析，可以觀看不同上雲系統在空間分布上的點位，有助於做上雲分類的判斷，該系統還提供參數分析功能，可提供子公司決定如何上雲，甚至上雲優先順序的建議。\\n不只有參數分析和圖表，針對每一套系統，數數發團隊還會提供質化分析報告，包含系統是否適合上雲的種種因素，供各子公司IT團隊參考。\\n除了設計統一方法論，應對大規模上雲的挑戰，顏勝豪表示，接下來將把雲端成本控管，和上雲後的Day-2 Operation維運面問題納入關鍵考量。\\n '"
            ],
            "application/vnd.google.colaboratory.intrinsic+json": {
              "type": "string"
            }
          },
          "metadata": {},
          "execution_count": 5
        }
      ]
    },
    {
      "cell_type": "code",
      "source": [
        "# 將文字寫入txt檔案\n",
        "with open('news.txt', 'w', encoding='utf-8') as file:\n",
        "    file.write(text)"
      ],
      "metadata": {
        "id": "S19s1c-CNmlM"
      },
      "execution_count": 6,
      "outputs": []
    },
    {
      "cell_type": "code",
      "source": [
        "# 讀取news.txt檔案\n",
        "with open('news.txt', 'r', encoding='utf-8') as file:\n",
        "    content = file.read()\n",
        "    print(content)"
      ],
      "metadata": {
        "colab": {
          "base_uri": "https://localhost:8080/"
        },
        "id": "B_OFu4JLNoXa",
        "outputId": "fe1424c5-8b56-4fd5-aeee-c800d9010da9"
      },
      "execution_count": 7,
      "outputs": [
        {
          "output_type": "stream",
          "name": "stdout",
          "text": [
            " 「從一家子公司到協助集團各公司上雲，從一套系統發展到上百套系統上雲」國泰金控數數發中心雲端技術架構師顏勝豪直言，這正是國泰金控集團所要面對的大規模上雲的考驗。\n",
            "為了克服這項IT大挑戰，該公司不只擬定大規模上雲策略，還建立一套方法論，來協助各子公司進行大量系統遷移，更透過系統化方式幫助子公司評估，加快上雲腳步。而顏勝豪正是負責執行集團雲端轉型計畫的關鍵人物，擬定集團上雲策略。他近日在一場活動上首度揭露集團內部大規模上雲的轉型歷程。\n",
            "\n",
            "目標3～5年完成全集團100套系統上雲\n",
            "早在幾年前，國泰就已經展開集團上雲旅程，開始將一些新系統和服務部署於地端的私有雲，更要建立私雲和公雲的混合雲架構，以取得雲端更多好處，包含敏捷、彈性、全球部署和成本優勢。而國泰雲端戰略第一步，就是要把集團內系統逐一搬上公雲，還擬定上雲策略，希望透過雲環境就緒（Cloud  Readiness）、雲端採用（Cloud Adoption）、雲端優化（Cloud Optimization）及雲端應用現代化（Cloud Modernization）分4階段，完成集團上雲。\n",
            "國泰擁抱雲端，不只是想要獲取上雲效益，更希望利用雲端資源協助集團建構國泰雲端數位發展能力，這些能力都是國泰金控數位轉型整體戰略的重要一環。在這個大戰略之下，顏勝豪和數數發團隊一肩扛起重任，要協助集團各子公司完成系統遷移，更以未來3～5年完成全集團100套系統上雲為目標。\n",
            "國泰於2021年展開第一階段上雲計畫，從基礎建設、應用程式、管理、組織4個面向發展上雲的準備，先從銀行開始，之後人壽、產險、證券子公司跟進。\n",
            "顏勝豪表示，這階段上雲的重點，先從子公司單一系統上雲做起，以建立搬遷雲端所需的相關資安、系統遷移和環境基礎設計機制，完成第一階段目標後，今年進到第2階段雲端採用。\n",
            "國泰實現大規模上雲的關鍵，靠一套方法論協助子公司做遷移分類\n",
            "但一進到這個階段，國泰數數發團隊馬上遇到考驗，因為需要處理子公司越來越多大量系統上雲的需求，尤其，跟過去上一套系統相比，顏勝豪指出：「進入大量雲端使用階段，面對的是上百套系統的挑戰，其複雜度、規模和以往截然不同。」\n",
            "他進一步解釋，因為每套上雲系統架構都不一樣，有些可能採用傳統單體架構，有的則導入微服務新架構，甚至相依性 、開發架構、SLA要求，每個系統都不一樣，不僅如此，有時還得考量有無個資、特殊大流量需求等，這些都會影響到其上雲模式，「100套系統中可能就有50種不同的類別 ，必須要有對應策略。」\n",
            "\n",
            "國泰金控實現大規模上雲的策略關鍵，就是靠一套方法論，來協助各子公司進行大量系統遷移。他們將系統遷移方式依據上雲模式、系統開發成本分為Rehost 、Re-platform、Refactor、Rewrite、Replace和Retain共6種遷移架構，對應到IaaS、PaaS、SaaS三種不同上雲模式。圖片來源:國泰金控\n",
            "\n",
            "國泰金控實現大規模上雲的策略關鍵，就是靠一套統一的方法論，協助各子公司進行大量系統遷移。\n",
            "但不像其他企業大多使用現成方法論來實踐，國泰反而選擇自建集團自己的方法論，除了透過顧問團隊協助，還參考Gartner 5R和AWS 7 Rs雲端遷移模型定義，進而形成自己的Cathay 6R雲端遷移方法論。顏勝豪表示，以此建立出來的方法論，更能夠符合國泰金融上雲實際情況。\n",
            "在這套方法論中，他們將系統遷移方式依據上雲模式、系統開發成本分為Rehost 、Re-platform、Refactor、Rewrite、Replace和Retain共6種遷移架構，並能對應到IaaS、PaaS、SaaS三種不同上雲模式。\n",
            "在這6種上雲方式中，採用Rehost方式上雲的系統開發成本最低，幾乎不需改動，僅需將本地VM搬上雲，常見的工作負載平移（lift and shift），就是屬於這種上雲方式。而Re-platform則是指在系統上雲過程中開始採用雲生原應用服務，如改用雲端代管服務提供SQL資料庫服務等，或將應用程式容器化。Refactor則是Re-platform更進階作法，不光是資料庫，連AP層跟著容器化，部署在雲端容器管理平臺上，它也是第三種上雲方式。\n",
            "該方法論提到第四種上雲方式是Rewrite，相較於前三種上雲方式，不光是改寫應用程式，連系統架構也進行大幅更改，轉為Cloud Native架構，如將前端網頁從MVC架構改為前後端分離的SPA單頁式應用架構。他指出，這種上雲作法，雖然更能支援雲端原生環境，但系統開發成本相對較高。如果採用Replace方式上雲的話，對轉換雲原生架構更徹底，等於是全面改以SaaS服務型態進行上雲。最後Retain作法則因考慮到合規性、系統合併等不確定因素，系統仍維持於地端。\n",
            "國泰今年在進行大規模系統上雲時，開始透過這套方法論，來對於這些上雲系統進行分析、分類，找出其適合上雲的方式，確保整個遷雲過程能順利完成。\n",
            "顏勝豪表示，雖然系統上雲有更快交付市場、資源申縮彈性、省錢、天然高可用等諸多好處，但獲得這些好處的前提，取決於系統如何上雲，「6R方法論的實踐很重要，因為它不只決定整套系統上雲後的服務顆粒度大小，甚至影響到之後上雲效益。」\n",
            "舉例來說，在6R方法論中，採用不同遷移方式，對應到的上雲模式有所不同，比如Rehost分類對應到的上雲模式是IaaS，Re-platform和Refactor上雲模式則是IaaS或PaaS，而Rewrite對應到的是PaaS或SaaS，至於Replace則屬於SaaS模式。\n",
            "但對國泰系統上雲來說，他強調，最終希望是採用PaaS或SaaS方式上雲，大量使用虛擬機的IaaS模式雖是最快又簡單的上雲方法，但獲得的雲端效益也最低。顏勝豪更用一句話直白說明 Cathay 6R 策略：「就是消滅虛擬機」。\n",
            "也因為採取這個策略，目前國泰系統上雲過程中，如果各子公司提交的系統架構圖出現VM，他會特別詢問理由，除非這些應用只能在VM上執行，不然會要求子公司盡量避免使用VM，改用容器來取代。\n",
            "導入自評系統，加快子公司系統上雲評估\n",
            "\n",
            "有了6R方法論之後，他表示，執行上，團隊會透過系統訪談，依據所收集到的資訊，產出該系統上雲的評估建議，包括技術、風險、業務衝擊等面向，作為各子公司系統上雲的參考。經過他們的歸類，目前系統上雲方式以Refactor的分類情況最常見，也就是屬於低度應用程式的調整，可能採用PaaS服務或者把應用程式容器化。\n",
            "為了縮短系統上雲評估作業，國泰後來自行開發一個CCMA（國泰系統上雲評估分析平臺）系統，將6R分類方法轉為系統化方式，來協助各子公司評估，除了協助其快速了解應用系統的資料性質、開發者、資安需求等等，也提供子公司作為整體應用遷移策略的選擇參考。\n",
            "顏勝豪表示，過去透過Excel進行資料蒐集和整理，產出分析結果和報表，容易有資料保存版本的問題，導入系統後不再有這個問題，甚至子公司IT團隊能上網站預填問卷，不需要等訪談人員到現場才能填，有助於縮短系統的評估時間。問卷填完的數據分析結果，從系統上就能看得到，他們將原本人工邏輯判斷，轉為規則引擎建立在系統裡，只要填妥資料，系統就會產出6R評估結果。所有報表經過系統化，都可以直接匯出，方便各子公司來查看。\n",
            "像從系統上的問卷管理平臺，就能看到每個上雲系統的列表和上雲評估，在列表中，除了有6R評估結果，還提供風險、業務衝擊、技術適合度等不同面向的系統分數和整體平均分數比較，作為各子公司總體上雲策略的判斷，另外也整合不少分析功能，像是透過整體分群分析，可以觀看不同上雲系統在空間分布上的點位，有助於做上雲分類的判斷，該系統還提供參數分析功能，可提供子公司決定如何上雲，甚至上雲優先順序的建議。\n",
            "不只有參數分析和圖表，針對每一套系統，數數發團隊還會提供質化分析報告，包含系統是否適合上雲的種種因素，供各子公司IT團隊參考。\n",
            "除了設計統一方法論，應對大規模上雲的挑戰，顏勝豪表示，接下來將把雲端成本控管，和上雲後的Day-2 Operation維運面問題納入關鍵考量。\n",
            " \n"
          ]
        }
      ]
    },
    {
      "cell_type": "code",
      "source": [
        "# 將txt檔下載\n",
        "from google.colab import files\n",
        "files.download('news.txt')"
      ],
      "metadata": {
        "colab": {
          "base_uri": "https://localhost:8080/",
          "height": 17
        },
        "id": "8n_PIrEyOuiS",
        "outputId": "52db844f-6277-46f3-8b2e-b917b6857921"
      },
      "execution_count": 8,
      "outputs": [
        {
          "output_type": "display_data",
          "data": {
            "text/plain": [
              "<IPython.core.display.Javascript object>"
            ],
            "application/javascript": [
              "\n",
              "    async function download(id, filename, size) {\n",
              "      if (!google.colab.kernel.accessAllowed) {\n",
              "        return;\n",
              "      }\n",
              "      const div = document.createElement('div');\n",
              "      const label = document.createElement('label');\n",
              "      label.textContent = `Downloading \"${filename}\": `;\n",
              "      div.appendChild(label);\n",
              "      const progress = document.createElement('progress');\n",
              "      progress.max = size;\n",
              "      div.appendChild(progress);\n",
              "      document.body.appendChild(div);\n",
              "\n",
              "      const buffers = [];\n",
              "      let downloaded = 0;\n",
              "\n",
              "      const channel = await google.colab.kernel.comms.open(id);\n",
              "      // Send a message to notify the kernel that we're ready.\n",
              "      channel.send({})\n",
              "\n",
              "      for await (const message of channel.messages) {\n",
              "        // Send a message to notify the kernel that we're ready.\n",
              "        channel.send({})\n",
              "        if (message.buffers) {\n",
              "          for (const buffer of message.buffers) {\n",
              "            buffers.push(buffer);\n",
              "            downloaded += buffer.byteLength;\n",
              "            progress.value = downloaded;\n",
              "          }\n",
              "        }\n",
              "      }\n",
              "      const blob = new Blob(buffers, {type: 'application/binary'});\n",
              "      const a = document.createElement('a');\n",
              "      a.href = window.URL.createObjectURL(blob);\n",
              "      a.download = filename;\n",
              "      div.appendChild(a);\n",
              "      a.click();\n",
              "      div.remove();\n",
              "    }\n",
              "  "
            ]
          },
          "metadata": {}
        },
        {
          "output_type": "display_data",
          "data": {
            "text/plain": [
              "<IPython.core.display.Javascript object>"
            ],
            "application/javascript": [
              "download(\"download_7ff0bbdb-ec35-4e3b-8ae1-021b77287254\", \"news.txt\", 8897)"
            ]
          },
          "metadata": {}
        }
      ]
    },
    {
      "cell_type": "markdown",
      "source": [
        "## 方案二：將新聞稿的內文給ChatGPT API，並請chatGPT總結新聞稿內容\n",
        "### **使用兩種方法來串接ChatGPT API:**\n",
        "### 2-1. 以request模組來串接ChatGPT API\n",
        "### 2-2. 直接import openai 套件"
      ],
      "metadata": {
        "id": "tBugjJjkRJUU"
      }
    },
    {
      "cell_type": "code",
      "source": [
        "# References\n",
        "\n",
        "# https://ithelp.ithome.com.tw/articles/10312324\n",
        "# https://ithelp.ithome.com.tw/m/articles/10336081\n",
        "# https://stackoverflow.com/questions/77505030/openai-api-error-you-tried-to-access-openai-chatcompletion-but-this-is-no-lon\n",
        "# https://platform.openai.com/docs/guides/text-generation/json-mode\n",
        "\n",
        "# 使用工具\n",
        "# ChatGPT"
      ],
      "metadata": {
        "id": "JLDhZHJZqIN3"
      },
      "execution_count": 9,
      "outputs": []
    },
    {
      "cell_type": "code",
      "source": [
        "!pip install openai"
      ],
      "metadata": {
        "colab": {
          "base_uri": "https://localhost:8080/"
        },
        "id": "yMN-KJfCduNd",
        "outputId": "4843f37e-1a23-41e9-9f2e-de62736a7baf"
      },
      "execution_count": 10,
      "outputs": [
        {
          "output_type": "stream",
          "name": "stdout",
          "text": [
            "Collecting openai\n",
            "  Downloading openai-1.14.2-py3-none-any.whl (262 kB)\n",
            "\u001b[?25l     \u001b[90m━━━━━━━━━━━━━━━━━━━━━━━━━━━━━━━━━━━━━━━━\u001b[0m \u001b[32m0.0/262.4 kB\u001b[0m \u001b[31m?\u001b[0m eta \u001b[36m-:--:--\u001b[0m\r\u001b[2K     \u001b[91m━━━━━━━━━━━━━━━━━\u001b[0m\u001b[90m╺\u001b[0m\u001b[90m━━━━━━━━━━━━━━━━━━━━━━\u001b[0m \u001b[32m112.6/262.4 kB\u001b[0m \u001b[31m3.2 MB/s\u001b[0m eta \u001b[36m0:00:01\u001b[0m\r\u001b[2K     \u001b[90m━━━━━━━━━━━━━━━━━━━━━━━━━━━━━━━━━━━━━━━━\u001b[0m \u001b[32m262.4/262.4 kB\u001b[0m \u001b[31m4.7 MB/s\u001b[0m eta \u001b[36m0:00:00\u001b[0m\n",
            "\u001b[?25hRequirement already satisfied: anyio<5,>=3.5.0 in /usr/local/lib/python3.10/dist-packages (from openai) (3.7.1)\n",
            "Requirement already satisfied: distro<2,>=1.7.0 in /usr/lib/python3/dist-packages (from openai) (1.7.0)\n",
            "Collecting httpx<1,>=0.23.0 (from openai)\n",
            "  Downloading httpx-0.27.0-py3-none-any.whl (75 kB)\n",
            "\u001b[2K     \u001b[90m━━━━━━━━━━━━━━━━━━━━━━━━━━━━━━━━━━━━━━━━\u001b[0m \u001b[32m75.6/75.6 kB\u001b[0m \u001b[31m11.3 MB/s\u001b[0m eta \u001b[36m0:00:00\u001b[0m\n",
            "\u001b[?25hRequirement already satisfied: pydantic<3,>=1.9.0 in /usr/local/lib/python3.10/dist-packages (from openai) (2.6.4)\n",
            "Requirement already satisfied: sniffio in /usr/local/lib/python3.10/dist-packages (from openai) (1.3.1)\n",
            "Requirement already satisfied: tqdm>4 in /usr/local/lib/python3.10/dist-packages (from openai) (4.66.2)\n",
            "Requirement already satisfied: typing-extensions<5,>=4.7 in /usr/local/lib/python3.10/dist-packages (from openai) (4.10.0)\n",
            "Requirement already satisfied: idna>=2.8 in /usr/local/lib/python3.10/dist-packages (from anyio<5,>=3.5.0->openai) (3.6)\n",
            "Requirement already satisfied: exceptiongroup in /usr/local/lib/python3.10/dist-packages (from anyio<5,>=3.5.0->openai) (1.2.0)\n",
            "Requirement already satisfied: certifi in /usr/local/lib/python3.10/dist-packages (from httpx<1,>=0.23.0->openai) (2024.2.2)\n",
            "Collecting httpcore==1.* (from httpx<1,>=0.23.0->openai)\n",
            "  Downloading httpcore-1.0.4-py3-none-any.whl (77 kB)\n",
            "\u001b[2K     \u001b[90m━━━━━━━━━━━━━━━━━━━━━━━━━━━━━━━━━━━━━━━━\u001b[0m \u001b[32m77.8/77.8 kB\u001b[0m \u001b[31m10.6 MB/s\u001b[0m eta \u001b[36m0:00:00\u001b[0m\n",
            "\u001b[?25hCollecting h11<0.15,>=0.13 (from httpcore==1.*->httpx<1,>=0.23.0->openai)\n",
            "  Downloading h11-0.14.0-py3-none-any.whl (58 kB)\n",
            "\u001b[2K     \u001b[90m━━━━━━━━━━━━━━━━━━━━━━━━━━━━━━━━━━━━━━━━\u001b[0m \u001b[32m58.3/58.3 kB\u001b[0m \u001b[31m8.4 MB/s\u001b[0m eta \u001b[36m0:00:00\u001b[0m\n",
            "\u001b[?25hRequirement already satisfied: annotated-types>=0.4.0 in /usr/local/lib/python3.10/dist-packages (from pydantic<3,>=1.9.0->openai) (0.6.0)\n",
            "Requirement already satisfied: pydantic-core==2.16.3 in /usr/local/lib/python3.10/dist-packages (from pydantic<3,>=1.9.0->openai) (2.16.3)\n",
            "Installing collected packages: h11, httpcore, httpx, openai\n",
            "Successfully installed h11-0.14.0 httpcore-1.0.4 httpx-0.27.0 openai-1.14.2\n"
          ]
        }
      ]
    },
    {
      "cell_type": "code",
      "source": [
        "# 讀取news.txt檔案\n",
        "with open('news.txt', 'r', encoding='utf-8') as file:\n",
        "    content = file.read()\n",
        "    print(content)"
      ],
      "metadata": {
        "colab": {
          "base_uri": "https://localhost:8080/"
        },
        "id": "ESUbgTlGCQCR",
        "outputId": "b164537e-07a9-4e4e-df3e-5f3a3b5bc3fe"
      },
      "execution_count": 11,
      "outputs": [
        {
          "output_type": "stream",
          "name": "stdout",
          "text": [
            " 「從一家子公司到協助集團各公司上雲，從一套系統發展到上百套系統上雲」國泰金控數數發中心雲端技術架構師顏勝豪直言，這正是國泰金控集團所要面對的大規模上雲的考驗。\n",
            "為了克服這項IT大挑戰，該公司不只擬定大規模上雲策略，還建立一套方法論，來協助各子公司進行大量系統遷移，更透過系統化方式幫助子公司評估，加快上雲腳步。而顏勝豪正是負責執行集團雲端轉型計畫的關鍵人物，擬定集團上雲策略。他近日在一場活動上首度揭露集團內部大規模上雲的轉型歷程。\n",
            "\n",
            "目標3～5年完成全集團100套系統上雲\n",
            "早在幾年前，國泰就已經展開集團上雲旅程，開始將一些新系統和服務部署於地端的私有雲，更要建立私雲和公雲的混合雲架構，以取得雲端更多好處，包含敏捷、彈性、全球部署和成本優勢。而國泰雲端戰略第一步，就是要把集團內系統逐一搬上公雲，還擬定上雲策略，希望透過雲環境就緒（Cloud  Readiness）、雲端採用（Cloud Adoption）、雲端優化（Cloud Optimization）及雲端應用現代化（Cloud Modernization）分4階段，完成集團上雲。\n",
            "國泰擁抱雲端，不只是想要獲取上雲效益，更希望利用雲端資源協助集團建構國泰雲端數位發展能力，這些能力都是國泰金控數位轉型整體戰略的重要一環。在這個大戰略之下，顏勝豪和數數發團隊一肩扛起重任，要協助集團各子公司完成系統遷移，更以未來3～5年完成全集團100套系統上雲為目標。\n",
            "國泰於2021年展開第一階段上雲計畫，從基礎建設、應用程式、管理、組織4個面向發展上雲的準備，先從銀行開始，之後人壽、產險、證券子公司跟進。\n",
            "顏勝豪表示，這階段上雲的重點，先從子公司單一系統上雲做起，以建立搬遷雲端所需的相關資安、系統遷移和環境基礎設計機制，完成第一階段目標後，今年進到第2階段雲端採用。\n",
            "國泰實現大規模上雲的關鍵，靠一套方法論協助子公司做遷移分類\n",
            "但一進到這個階段，國泰數數發團隊馬上遇到考驗，因為需要處理子公司越來越多大量系統上雲的需求，尤其，跟過去上一套系統相比，顏勝豪指出：「進入大量雲端使用階段，面對的是上百套系統的挑戰，其複雜度、規模和以往截然不同。」\n",
            "他進一步解釋，因為每套上雲系統架構都不一樣，有些可能採用傳統單體架構，有的則導入微服務新架構，甚至相依性 、開發架構、SLA要求，每個系統都不一樣，不僅如此，有時還得考量有無個資、特殊大流量需求等，這些都會影響到其上雲模式，「100套系統中可能就有50種不同的類別 ，必須要有對應策略。」\n",
            "\n",
            "國泰金控實現大規模上雲的策略關鍵，就是靠一套方法論，來協助各子公司進行大量系統遷移。他們將系統遷移方式依據上雲模式、系統開發成本分為Rehost 、Re-platform、Refactor、Rewrite、Replace和Retain共6種遷移架構，對應到IaaS、PaaS、SaaS三種不同上雲模式。圖片來源:國泰金控\n",
            "\n",
            "國泰金控實現大規模上雲的策略關鍵，就是靠一套統一的方法論，協助各子公司進行大量系統遷移。\n",
            "但不像其他企業大多使用現成方法論來實踐，國泰反而選擇自建集團自己的方法論，除了透過顧問團隊協助，還參考Gartner 5R和AWS 7 Rs雲端遷移模型定義，進而形成自己的Cathay 6R雲端遷移方法論。顏勝豪表示，以此建立出來的方法論，更能夠符合國泰金融上雲實際情況。\n",
            "在這套方法論中，他們將系統遷移方式依據上雲模式、系統開發成本分為Rehost 、Re-platform、Refactor、Rewrite、Replace和Retain共6種遷移架構，並能對應到IaaS、PaaS、SaaS三種不同上雲模式。\n",
            "在這6種上雲方式中，採用Rehost方式上雲的系統開發成本最低，幾乎不需改動，僅需將本地VM搬上雲，常見的工作負載平移（lift and shift），就是屬於這種上雲方式。而Re-platform則是指在系統上雲過程中開始採用雲生原應用服務，如改用雲端代管服務提供SQL資料庫服務等，或將應用程式容器化。Refactor則是Re-platform更進階作法，不光是資料庫，連AP層跟著容器化，部署在雲端容器管理平臺上，它也是第三種上雲方式。\n",
            "該方法論提到第四種上雲方式是Rewrite，相較於前三種上雲方式，不光是改寫應用程式，連系統架構也進行大幅更改，轉為Cloud Native架構，如將前端網頁從MVC架構改為前後端分離的SPA單頁式應用架構。他指出，這種上雲作法，雖然更能支援雲端原生環境，但系統開發成本相對較高。如果採用Replace方式上雲的話，對轉換雲原生架構更徹底，等於是全面改以SaaS服務型態進行上雲。最後Retain作法則因考慮到合規性、系統合併等不確定因素，系統仍維持於地端。\n",
            "國泰今年在進行大規模系統上雲時，開始透過這套方法論，來對於這些上雲系統進行分析、分類，找出其適合上雲的方式，確保整個遷雲過程能順利完成。\n",
            "顏勝豪表示，雖然系統上雲有更快交付市場、資源申縮彈性、省錢、天然高可用等諸多好處，但獲得這些好處的前提，取決於系統如何上雲，「6R方法論的實踐很重要，因為它不只決定整套系統上雲後的服務顆粒度大小，甚至影響到之後上雲效益。」\n",
            "舉例來說，在6R方法論中，採用不同遷移方式，對應到的上雲模式有所不同，比如Rehost分類對應到的上雲模式是IaaS，Re-platform和Refactor上雲模式則是IaaS或PaaS，而Rewrite對應到的是PaaS或SaaS，至於Replace則屬於SaaS模式。\n",
            "但對國泰系統上雲來說，他強調，最終希望是採用PaaS或SaaS方式上雲，大量使用虛擬機的IaaS模式雖是最快又簡單的上雲方法，但獲得的雲端效益也最低。顏勝豪更用一句話直白說明 Cathay 6R 策略：「就是消滅虛擬機」。\n",
            "也因為採取這個策略，目前國泰系統上雲過程中，如果各子公司提交的系統架構圖出現VM，他會特別詢問理由，除非這些應用只能在VM上執行，不然會要求子公司盡量避免使用VM，改用容器來取代。\n",
            "導入自評系統，加快子公司系統上雲評估\n",
            "\n",
            "有了6R方法論之後，他表示，執行上，團隊會透過系統訪談，依據所收集到的資訊，產出該系統上雲的評估建議，包括技術、風險、業務衝擊等面向，作為各子公司系統上雲的參考。經過他們的歸類，目前系統上雲方式以Refactor的分類情況最常見，也就是屬於低度應用程式的調整，可能採用PaaS服務或者把應用程式容器化。\n",
            "為了縮短系統上雲評估作業，國泰後來自行開發一個CCMA（國泰系統上雲評估分析平臺）系統，將6R分類方法轉為系統化方式，來協助各子公司評估，除了協助其快速了解應用系統的資料性質、開發者、資安需求等等，也提供子公司作為整體應用遷移策略的選擇參考。\n",
            "顏勝豪表示，過去透過Excel進行資料蒐集和整理，產出分析結果和報表，容易有資料保存版本的問題，導入系統後不再有這個問題，甚至子公司IT團隊能上網站預填問卷，不需要等訪談人員到現場才能填，有助於縮短系統的評估時間。問卷填完的數據分析結果，從系統上就能看得到，他們將原本人工邏輯判斷，轉為規則引擎建立在系統裡，只要填妥資料，系統就會產出6R評估結果。所有報表經過系統化，都可以直接匯出，方便各子公司來查看。\n",
            "像從系統上的問卷管理平臺，就能看到每個上雲系統的列表和上雲評估，在列表中，除了有6R評估結果，還提供風險、業務衝擊、技術適合度等不同面向的系統分數和整體平均分數比較，作為各子公司總體上雲策略的判斷，另外也整合不少分析功能，像是透過整體分群分析，可以觀看不同上雲系統在空間分布上的點位，有助於做上雲分類的判斷，該系統還提供參數分析功能，可提供子公司決定如何上雲，甚至上雲優先順序的建議。\n",
            "不只有參數分析和圖表，針對每一套系統，數數發團隊還會提供質化分析報告，包含系統是否適合上雲的種種因素，供各子公司IT團隊參考。\n",
            "除了設計統一方法論，應對大規模上雲的挑戰，顏勝豪表示，接下來將把雲端成本控管，和上雲後的Day-2 Operation維運面問題納入關鍵考量。\n",
            " \n"
          ]
        }
      ]
    },
    {
      "cell_type": "markdown",
      "source": [
        "### 2-1. 使用request模組來串接API"
      ],
      "metadata": {
        "id": "WuxGN8IUGMGq"
      }
    },
    {
      "cell_type": "code",
      "source": [
        "api_key = '' #已經使用自己的api key確認串接上沒有問題\n",
        "prompt = content\n",
        "\n",
        "response = requests.post(\n",
        "    'https://api.openai.com/v1/chat/completions',\n",
        "    headers = {\n",
        "        'Content-Type': 'application/json',\n",
        "        'Authorization': f'Bearer {api_key}'\n",
        "    },\n",
        "    json = {\n",
        "\n",
        "        # 若要以參數調整輸出內容，於此做調整，有以下不同的參數可以使用\n",
        "        # 'temperature': 內容的創意性，範圍為0-1之間\n",
        "        # 'max_token': 內容的長度限制\n",
        "        # 'top_p': 內容的概率限制\n",
        "        # 'frequency_penalty': 內容的頻率限制\n",
        "        # 'presence_penalty': 內容的出現限制\n",
        "\n",
        "        'model': 'gpt-3.5-turbo', #使用的模型\n",
        "        'messages' :\n",
        "            [\n",
        "            {\"role\": \"user\", \"content\": \"你現在的任務是幫我做新聞的總結，接下來我會給你一篇新聞，幫我完成任務\"},#'user'為我本人，其中'content'為要傳給chatGPT的prompt\n",
        "            {\"role\": \"user\", \"content\": prompt}\n",
        "            ]\n",
        "    })\n",
        "\n",
        "json = response.json()\n",
        "print(json['choices'][0]['message']['content'])#選擇第一個chatGPT的回應"
      ],
      "metadata": {
        "colab": {
          "base_uri": "https://localhost:8080/"
        },
        "id": "WNLxOrrYfy0u",
        "outputId": "27478d66-45b7-4cfe-be21-e51cbdba134b"
      },
      "execution_count": 14,
      "outputs": [
        {
          "output_type": "stream",
          "name": "stdout",
          "text": [
            "國泰金控目前正面臨前所未有的大規模上雲挑戰，由數數發中心雲端技術架構師顏勝豪率領下，集團計畫在3至5年內完成全集團100套系統的上雲工程。早在幾年前，國泰就開始展開集團上雲旅程，希望藉由雲端環境帶來敏捷、彈性、成本優勢等好處。\n",
            "\n",
            "為了克服這項IT大挑戰，該公司不只制定大規模上雲策略，還建立了一套自有的方法論，協助各子公司進行系統遷移，並期望透過此策略協助子公司快速完成系統上雲。\n",
            "\n",
            "國泰通過該方法論將系統遷移方式分為六種不同類別，並對應到三種不同的上雲模式。透過此方法，國泰致力於將系統上雲的遷移過程系統化，藉以確保整個上雲過程順利完成。具體來說，顏勝豪表示，採用Rehost方式上雲的系統開發成本最低，而採用Rewrite方式上雲的系統開發成本相對較高，但能支援雲端原生環境。\n",
            "\n",
            "此外，國泰亦開發了一個CCMA系統，以協助各子公司進行系統上雲評估分析。透過此系統，各子公司可以快速了解其應用系統的資料性質、風險、業務衝擊等，並作為制定整體應用遷移策略的參考。\n",
            "\n",
            "顏勝豪進一步表示，雖然系統上雲帶來不少好處，但其實障礙挑戰多，因此接下來他們將專注於雲端成本控管和上雲後的Day-2 Operation維運面問題的解決，以確保上雲後的效益可最大化。通过这样的努力，国泰金控正致力于打造国泰云端数字化发展能力，以此来推动公司的数字转型。\n"
          ]
        }
      ]
    },
    {
      "cell_type": "markdown",
      "source": [
        "### 2.2 直接import openai套件"
      ],
      "metadata": {
        "id": "PuH6Kp0mGSKW"
      }
    },
    {
      "cell_type": "code",
      "source": [
        "import openai\n",
        "#已經使用自己的api key確認串接上沒有問題\n",
        "openai.api_key = ''\n",
        "prompt = content\n",
        "\n",
        "completion = openai.chat.completions.create(\n",
        "  model=\"gpt-3.5-turbo\",\n",
        "  messages=\n",
        "  [\n",
        "    {\"role\": \"user\", \"content\": \"你現在的任務是幫我做新聞的總結，接下來我會給你一篇新聞，幫我完成任務\"},\n",
        "    {\"role\": \"user\", \"content\": prompt}\n",
        "  ]\n",
        ")\n",
        "\n",
        "print(completion.choices[0].message.content)"
      ],
      "metadata": {
        "colab": {
          "base_uri": "https://localhost:8080/"
        },
        "id": "vsX2TO6HlzZC",
        "outputId": "9d0e188d-1f7d-4287-e2f8-b55b2b3810cd"
      },
      "execution_count": 16,
      "outputs": [
        {
          "output_type": "stream",
          "name": "stdout",
          "text": [
            "國泰金控集團正面臨著大規模上雲的挑戰，從一家子公司到協助集團各公司上雲，從一套系統發展到上百套系統上雲。為了克服這項挑戰，國泰金控不僅擬定大規模上雲策略，更建立了一套方法論，以協助各子公司進行大量系統遷移，並透過系統化方式幫助子公司評估，加快上雲進程。目標是在未來3至5年內完成全集團100套系統上雲。\n",
            "\n",
            "該公司展開集團上雲旅程，第一步是逐一將集團內系統搬上公雲，並擬定上雲策略，包括Cloud Readiness、Cloud Adoption、Cloud Optimization和Cloud Modernization等4階段，以完成集團上雲。為了擁抱雲端技術，國泰金控希望不僅獲取上雲效益，更期許雲端資源能協助建構國泰雲端數位發展能力，這也是其數位轉型戰略的重要一環。\n",
            "\n",
            "為了實現大規模上雲，國泰金控採取了一套自建的方法論，協助各子公司進行大量系統遷移。這套方法論將系統遷移方式依據上雲模式、系統開發成本分為Rehost、Re-platform、Refactor、Rewrite、Replace和Retain等6種遷移架構，並對應到IaaS、PaaS、SaaS等上雲模式。\n",
            "\n",
            "國泰金控近期開展了第一階段的上雲計畫，從基礎建設、應用程式、管理、組織等方面進行上雲準備，先以銀行起頭，接著是人壽、產險、證券子公司。其中，Refactor方式在系統上雲中最常見，即低度應用程式的調整可能採用PaaS服務或應用程式容器化方式。\n",
            "\n",
            "此外，國泰金控還開發了CCMA系統（國泰系統上雲評估分析平臺），透過這個系統對上雲系統進行評估和分析，提供技術、風險、業務衝擊等方面的建議，以加快系統上雲評估過程。這些措施旨在確保整個遷雲過程能順利完成，並縮短評估時間，以達成大規模上雲的目標。\n"
          ]
        }
      ]
    }
  ]
}